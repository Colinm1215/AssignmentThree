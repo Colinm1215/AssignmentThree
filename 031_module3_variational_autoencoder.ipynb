{
  "cells": [
    {
      "cell_type": "code",
      "execution_count": 2,
      "id": "b4696841-996b-4c36-b508-81814bce242b",
      "metadata": {
        "id": "b4696841-996b-4c36-b508-81814bce242b"
      },
      "outputs": [],
      "source": [
        "# !pip install torch\n",
        "# !pip install torchvision"
      ]
    },
    {
      "cell_type": "code",
      "execution_count": 3,
      "id": "1851460c-d5d8-4f8c-a2cf-cc7b9dc656fc",
      "metadata": {
        "id": "1851460c-d5d8-4f8c-a2cf-cc7b9dc656fc"
      },
      "outputs": [],
      "source": [
        "import torch\n",
        "import torch.nn as nn\n",
        "import torch.optim as optim\n",
        "from torchvision import datasets, transforms"
      ]
    },
    {
      "cell_type": "code",
      "execution_count": 4,
      "id": "e4272f59-12f5-4e44-a55b-75d4a25710d8",
      "metadata": {
        "id": "e4272f59-12f5-4e44-a55b-75d4a25710d8"
      },
      "outputs": [],
      "source": [
        "# VAE Architecture\n",
        "class VAE(nn.Module):\n",
        "    def __init__(self, latent_dim):\n",
        "        super(VAE, self).__init__()\n",
        "        # Encoder\n",
        "        self.encoder = nn.Sequential(\n",
        "            nn.Conv2d(3, 32, kernel_size=4, stride=2, padding=1),\n",
        "            nn.ReLU(),\n",
        "            nn.Conv2d(32, 64, kernel_size=4, stride=2, padding=1),\n",
        "            nn.ReLU(),\n",
        "            nn.Conv2d(64, 128, kernel_size=4, stride=2, padding=1),\n",
        "            nn.ReLU(),\n",
        "            nn.Flatten()\n",
        "        )\n",
        "        self.fc_mu = nn.Linear(4*4*128, latent_dim)\n",
        "        self.fc_logvar = nn.Linear(4*4*128, latent_dim)\n",
        "        # Decoder\n",
        "        self.fc_z = nn.Linear(latent_dim, 4*4*128)\n",
        "\n",
        "        self.decoder = nn.Sequential(\n",
        "            nn.ConvTranspose2d(128, 64, kernel_size=4, stride=2, padding=1),\n",
        "            nn.ReLU(),\n",
        "            nn.ConvTranspose2d(64, 32, kernel_size=4, stride=2, padding=1),\n",
        "            nn.ReLU(),\n",
        "            nn.ConvTranspose2d(32, 3, kernel_size=4, stride=2, padding=1),\n",
        "            nn.Sigmoid()\n",
        "        )\n",
        "\n",
        "    def encode(self, x):\n",
        "        h1 = self.encoder(x)\n",
        "        return self.fc_mu(h1), self.fc_logvar(h1)\n",
        "\n",
        "    def reparameterize(self, mu, logvar):\n",
        "        std = torch.exp(0.5 * logvar)\n",
        "        eps = torch.randn_like(std)\n",
        "        return mu + eps * std\n",
        "\n",
        "    def decode(self, z):\n",
        "        z = self.fc_z(z).view(-1, 128, 4, 4)\n",
        "        return self.decoder(z)\n",
        "\n",
        "    def forward(self, x):\n",
        "        mu, logvar = self.encode(x)\n",
        "        z = self.reparameterize(mu, logvar)\n",
        "        return self.decode(z), mu, logvar\n"
      ]
    },
    {
      "cell_type": "code",
      "execution_count": 8,
      "id": "7e787790-a39d-4ada-bc09-e08879e61b29",
      "metadata": {
        "id": "7e787790-a39d-4ada-bc09-e08879e61b29"
      },
      "outputs": [],
      "source": [
        "# Loss function\n",
        "def loss_function(recon_x, x, mu, logvar):\n",
        "    BCE = nn.functional.binary_cross_entropy(recon_x, x, reduction='sum')\n",
        "    KLD = -0.5 * torch.sum(1 + logvar - mu.pow(2) - logvar.exp())\n",
        "    return BCE + KLD\n"
      ]
    },
    {
      "cell_type": "code",
      "execution_count": 6,
      "id": "8566fc1e-df62-4a62-9ca4-df7aa7f83cff",
      "metadata": {
        "id": "8566fc1e-df62-4a62-9ca4-df7aa7f83cff"
      },
      "outputs": [],
      "source": [
        "# Training the VAE\n",
        "def train(model, train_loader, optimizer, epoch):\n",
        "    model.train()\n",
        "    train_loss = 0\n",
        "    for batch_idx, (data, _) in enumerate(train_loader):\n",
        "        optimizer.zero_grad()\n",
        "        recon_batch, mu, logvar = model(data)\n",
        "        loss = loss_function(recon_batch, data, mu, logvar)\n",
        "        loss.backward()\n",
        "        train_loss += loss.item()\n",
        "        optimizer.step()\n",
        "    print(f'Epoch {epoch}, Loss: {train_loss / len(train_loader.dataset)}')"
      ]
    },
    {
      "cell_type": "code",
      "execution_count": 9,
      "id": "461d55a1-0fdd-4943-ba97-39c83e85719b",
      "metadata": {
        "colab": {
          "base_uri": "https://localhost:8080/"
        },
        "id": "461d55a1-0fdd-4943-ba97-39c83e85719b",
        "outputId": "d975309a-7ede-4a2b-9e71-82404e493fac"
      },
      "outputs": [
        {
          "output_type": "stream",
          "name": "stdout",
          "text": [
            "Files already downloaded and verified\n",
            "Epoch 1, Loss: 1941.564343125\n",
            "Epoch 2, Loss: 1852.4174346875\n",
            "Epoch 3, Loss: 1837.934608125\n",
            "Epoch 4, Loss: 1832.05408125\n",
            "Epoch 5, Loss: 1828.8279484375\n",
            "Epoch 6, Loss: 1826.5610321875\n",
            "Epoch 7, Loss: 1824.9117853125\n",
            "Epoch 8, Loss: 1823.9560896875\n",
            "Epoch 9, Loss: 1822.8687715625\n",
            "Epoch 10, Loss: 1822.0742965625\n"
          ]
        }
      ],
      "source": [
        "# Load MNIST dataset and run the training\n",
        "transform = transforms.Compose([transforms.ToTensor()])\n",
        "train_dataset = datasets.CIFAR10(root=\"./data\", train=True, transform=transform, download=True)\n",
        "train_loader = torch.utils.data.DataLoader(train_dataset, batch_size=128, shuffle=True)\n",
        "\n",
        "vae = VAE(128)\n",
        "optimizer = optim.Adam(vae.parameters(), lr=1e-3)\n",
        "\n",
        "for epoch in range(1, 11):\n",
        "    train(vae, train_loader, optimizer, epoch)\n"
      ]
    },
    {
      "cell_type": "code",
      "execution_count": 14,
      "id": "7560b0ff-44c3-40ac-9434-8b32b489c50f",
      "metadata": {
        "id": "7560b0ff-44c3-40ac-9434-8b32b489c50f"
      },
      "outputs": [],
      "source": [
        "import matplotlib.pyplot as plt\n",
        "\n",
        "# Function to generate and display new images\n",
        "def generate_images(model, num_images=10, latent_dim=128):\n",
        "    model.eval()  # Set model to evaluation mode\n",
        "    with torch.no_grad():  # Turn off gradients for generation\n",
        "        # Sample random points from the latent space (standard normal distribution)\n",
        "        z = torch.randn(num_images, latent_dim)\n",
        "        # Decode these points to generate images\n",
        "        generated_images = model.decode(z).cpu()\n",
        "\n",
        "    # Plot the generated images\n",
        "    fig, axs = plt.subplots(1, num_images, figsize=(num_images, 1.5))\n",
        "    for i in range(num_images):\n",
        "        axs[i].imshow(generated_images[i].permute(1, 2, 0))\n",
        "        axs[i].axis('off')\n",
        "    plt.show()\n",
        "\n",
        "\n"
      ]
    },
    {
      "cell_type": "code",
      "execution_count": 15,
      "id": "ca3f8932-f0c9-4a47-ac17-4bc93e8ae945",
      "metadata": {
        "colab": {
          "base_uri": "https://localhost:8080/",
          "height": 103
        },
        "id": "ca3f8932-f0c9-4a47-ac17-4bc93e8ae945",
        "outputId": "fee83116-7708-4b73-fdb3-4046dbc526e5"
      },
      "outputs": [
        {
          "output_type": "display_data",
          "data": {
            "text/plain": [
              "<Figure size 500x150 with 5 Axes>"
            ],
            "image/png": "[encoded data removed]"
          },
          "metadata": {}
        }
      ],
      "source": [
        "# Assuming you have already trained the model (vae) and it has a latent dimension of 20\n",
        "generate_images(vae, num_images=5, latent_dim=128)"
      ]
    },
    {
      "cell_type": "code",
      "execution_count": null,
      "id": "a92bb08d-7668-492c-ad2b-cb003efbab76",
      "metadata": {
        "id": "a92bb08d-7668-492c-ad2b-cb003efbab76"
      },
      "outputs": [],
      "source": []
    }
  ],
  "metadata": {
    "kernelspec": {
      "display_name": "Python 3 (ipykernel)",
      "language": "python",
      "name": "python3"
    },
    "language_info": {
      "codemirror_mode": {
        "name": "ipython",
        "version": 3
      },
      "file_extension": ".py",
      "mimetype": "text/x-python",
      "name": "python",
      "nbconvert_exporter": "python",
      "pygments_lexer": "ipython3",
      "version": "3.11.7"
    },
    "colab": {
      "provenance": []
    }
  },
  "nbformat": 4,
  "nbformat_minor": 5
}